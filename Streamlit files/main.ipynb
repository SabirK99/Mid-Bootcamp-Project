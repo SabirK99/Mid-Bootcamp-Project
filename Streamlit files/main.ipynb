import streamlit as st
import streamlit.components.v1 as components
import pandas as pd
import numpy as np
import warnings


warnings.filterwarnings("ignore")
st.title('Mid-Bootcamp Project Presentation! \U0001F64C')
with st.expander("About my project"):
     st.write("""This project is pursuing the idea of whether people tend to switch more often to audiobooks nowadays, as more books are becoming available in audiobook version on many differententplatforms online. You can find the desired audiobook sometimes even for free! Browse different steps taken during the whole process of making the project on the left sidebar, from survey results to product showcasing.
     """)


with st.sidebar:
    st.header("Browse")
    select = st.selectbox("Explore any element", ["", "Survey data results","Product Showcase:BookVoice", "Future Developments"])

if select == "Survey data results":
    def main():
        html_temp = """
        <div class='tableauPlaceholder' id='viz1688738392138' style='position: relative'>
            <noscript>
                <a href='#'><img alt='Reading vs Listening survey results dashboard' src='https:&#47;&#47;public.tableau.com&#47;static&#47;images&#47;da&#47;dataonsurveyresults&#47;ReadingvsListeningsurveyresultsdashboard&#47;1_rss.png' style='border: none' /></a>
            </noscript>
            <object class='tableauViz' style='display:none;'>
                <param name='host_url' value='https%3A%2F%2Fpublic.tableau.com%2F' />
                <param name='embed_code_version' value='3' />
                <param name='site_root' value='' />
                <param name='name' value='dataonsurveyresults&#47;ReadingvsListeningsurveyresultsdashboard' />
                <param name='tabs' value='no' />
                <param name='toolbar' value='yes' />
                <param name='static_image' value='https:&#47;&#47;public.tableau.com&#47;static&#47;images&#47;da&#47;dataonsurveyresults&#47;ReadingvsListeningsurveyresultsdashboard&#47;1.png' />
                <param name='animate_transition' value='yes' />
                <param name='display_static_image' value='yes' />
                <param name='display_spinner' value='yes' />
                <param name='display_overlay' value='yes' />
                <param name='display_count' value='yes' />
                <param name='language' value='en-US' />
                <param name='filter' value='publish=yes' />
            </object>
            <script type='text/javascript'>
                var divElement = document.getElementById('viz1688738392138');
                var vizElement = divElement.getElementsByTagName('object')[0];
                if (divElement.offsetWidth > 800) {
                    vizElement.style.width = '100%';
                    vizElement.style.height = (divElement.offsetWidth * 0.75) + 'px';
                } else if (divElement.offsetWidth > 500) {
                    vizElement.style.width = '100%';
                    vizElement.style.height = (divElement.offsetWidth * 0.75) + 'px';
                } else {
                    vizElement.style.width = '100%';
                    vizElement.style.height = '1577px';
                }
                var scriptElement = document.createElement('script');
                scriptElement.src = 'https://public.tableau.com/javascripts/api/viz_v1.js';
                vizElement.parentNode.insertBefore(scriptElement, vizElement);
            </script>
        </div>
        """

        components.html(html_temp, height=1000)

    if __name__ == "__main__":
        main()
elif select == "Product Showcase:BookVoice":
    st.subheader("This was my reaction to the survey insights")
    gif_embed_code = """
    <iframe src="https://giphy.com/embed/GPQL5xsaunjmGcVqLn" width="480" height="270" frameBorder="0" class="giphy-embed" allowFullScreen>     </iframe> """

    st.markdown(gif_embed_code.format(gif_id="GPQL5xsaunjmGcVqLn"), unsafe_allow_html=True)

    st.write("As there were only 30 observations in this survey,leaning solely on them did not provide any specific insights on the main question of the project, making it harder to understand if audiobooks are becoming more popular or not. After several hypothesis testings made, there were no signifact differences found between gender, age group or professional background preferences on reading vs listening to the books (apart from many people who listen to podcasts have never even tried to listen to audiobook) meaning, next step was brainstorming the possible product ideas.")
    st.header("Brainstorming Phase")
    image_url = "https://hotpotmedia.s3.us-east-2.amazonaws.com/8-sVKI6tAACTUl6cW.png?nc=1"
    st.image(image_url)
    st.write("Going through many possible product ideas, I decided to pursue the one I truly wanted to, which is persuading people into trying out audiobooks as (In my humble opinion) they are a great asset to daily life.")
    st.header("Product Idea")
    st.write("The Idea is to make a website purely for audibooks, with different features such as gamification, subscriptions and etc... Main idea is to have best recommendations on audiobooks based on their ratings through links to different platforms such as amazon audible(if there is a possibility to listen for free, there will be a link for that too!).")
    css = """
<style>
.header {
    text-align: center;
}
</style>
"""

    st.markdown(css, unsafe_allow_html=True)

    st.markdown("<h1 class='header'>BookVoice</h1>", unsafe_allow_html=True)  
    image_path_2 = "Bookvoice.png"
    st.image(image_path_2)
    col1, col2,col3 = st.columns([5, 5, 5])
    with col1:
        st.subheader("Immerse Yourself Anywhere, Anytime")
        st.write("With BookVoice, you can embark on literary journeys even when you can't hold a book in your hands. Whether you're commuting, exercising, or simply relaxing at home, audiobooks offer the freedom to enjoy captivating stories in any situation.")
    with col2:
        st.subheader("Rediscover the Joy of Storytelling")
        st.write("Audiobooks breathe life into narratives, transporting you into the heart of the story. Talented narrators infuse each character with unique voices, emotions, and accents, creating a truly immersive experience that enhances your connection with the plot and its protagonists.")
    with col3:
        st.subheader("Multitask with Ease")
        st.write("Expand your productivity by multitasking while enjoying your favorite books. Audiobooks allow you to seamlessly integrate reading into your daily routine. Whether you're cooking, cleaning, or pursuing hobbies, you can absorb the magic of literature while accomplishing other tasks.")
      
    col4, col5, col6 = st.columns([5, 5, 5])
    with col4:
        st.subheader("Embrace Versatility")
        st.write("BookVoice lets you explore a vast library of audiobooks covering various genres and topics. From thrilling mysteries to inspiring self-help books, you can easily switch between genres and discover new authors, expanding your literary horizons like never before.")
    with col5:
        st.subheader("Enhance Comprehension and Retention")
        st.write("Listening to audiobooks can improve comprehension and retention, as the combination of auditory and visual senses stimulates your brain in different ways. Immerse yourself in the rhythm of the narration, and let the words come alive, enabling a deeper connection to the story.")
    with col6:
        st.subheader("Join a Thriving Community")
        st.write("BookVoice connects you with a vibrant community of fellow book enthusiasts. Engage in discussions, share recommendations, and participate in book clubs to foster meaningful connections with like-minded individuals who share your passion for literature.")
    st.subheader("How it would work")  
    df = pd.read_csv('dataset_updated.csv')
    st.dataframe(df)

elif select == "Future Developments":
    st.header("Features To Be Added")
    image_path = "Library.png"
    st.image(image_path, use_column_width=True)
    

  
    col1, col2 = st.columns([5, 5]) 

    with col1:
        
        st.subheader("Subscription options")
        subs = st.selectbox(
            "Which option suits you the best?",
            ("Free Subscription", "Monthly Subscription", "Annual Subscription" ))
        
        

    with col2:
        
        st.subheader("Gamification")
        gaming = st.selectbox(
         "make the experience of audiobooks interesting!", 
        ("Challenges", "Badges", "Quizzes"))

    col4, col5, col6 = st.columns([5, 5, 5])
    with col4:
        st.subheader("Social Network Connections")
        social = st.selectbox(
          "Connect your social network accounts to see recommendations from your friends",
        ("Facebook", "Instagram", "Snapchat", "Whatever folks use these days"))
        

    with col5:
        st.subheader("Podcasts")
        st.write("Potentially add different podcasts for people who like to relax and listen to informative talks and discussions")
    with col6:
        st.subheader("Mobile App Version")
        image_path = "mob_app.png"
        st.image(image_path)
